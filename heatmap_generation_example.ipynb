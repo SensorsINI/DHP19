{
 "cells": [
  {
   "cell_type": "markdown",
   "metadata": {},
   "source": [
    "# Example of heatmap generation\n",
    "This notebook shows an example of heatmap label generation for DHP19 dataset. \n",
    "Run the notebook after generating the DHP19 accumulated images/labels (in .h5 format) from the .aedat recordings and .mat 3D joint positions labels."
   ]
  },
  {
   "cell_type": "code",
   "execution_count": 1,
   "metadata": {},
   "outputs": [],
   "source": [
    "import h5py\n",
    "import numpy as np\n",
    "from os.path import join\n",
    "import matplotlib.pyplot as plt\n",
    "import cv2\n",
    "\n",
    "def load_file_(filepath):\n",
    "    if filepath.endswith('.h5'):\n",
    "        with h5py.File(filepath, 'r') as f_:\n",
    "            data = (f_[list(f_.keys())[0]])[()]\n",
    "    else:\n",
    "        raise ValueError('.h5 required format.')\n",
    "    return data\n",
    "\n",
    "def decay_heatmap(heatmap, sigma2=4):\n",
    "    heatmap = cv2.GaussianBlur(heatmap,(0,0),sigma2)\n",
    "    heatmap /= np.max(heatmap) # to keep the max to 1\n",
    "    return heatmap"
   ]
  },
  {
   "cell_type": "markdown",
   "metadata": {},
   "source": [
    "Change the paths and parameters in the next cell "
   ]
  },
  {
   "cell_type": "code",
   "execution_count": 2,
   "metadata": {},
   "outputs": [],
   "source": [
    "# path of files generated using matlab \n",
    "path_ = ''\n",
    "# camera projection matrices path\n",
    "P_mat_dir = ''\n",
    "\n",
    "image_h, image_w, num_joints = 260, 346, 13 # depend on how accumulated frames are generated in Matlab\n",
    "\n",
    "t  = 19 # timestep of image to plot\n",
    "subj, sess, mov = 2, 4, 6\n",
    "decay_maps_flag = True # True to blur heatmaps\n",
    "ch_idx = 3 # 0 to 3. This is the order of channels in .aedat/.h5"
   ]
  },
  {
   "cell_type": "markdown",
   "metadata": {},
   "source": [
    "NB: the order of channels in the .aedat file (and in the saved .h5) is different from the camera index. \n",
    "The next cell takes care of this, loading the proper camera projection matrix."
   ]
  },
  {
   "cell_type": "code",
   "execution_count": 3,
   "metadata": {},
   "outputs": [],
   "source": [
    "if ch_idx==1:\n",
    "    P_mat_cam = np.load(join(P_mat_dir,'P1.npy'))\n",
    "elif ch_idx==3:\n",
    "    P_mat_cam = np.load(join(P_mat_dir,'P2.npy'))\n",
    "elif ch_idx==2:\n",
    "    P_mat_cam = np.load(join(P_mat_dir,'P3.npy'))\n",
    "elif ch_idx==0:\n",
    "    P_mat_cam = np.load(join(P_mat_dir,'P4.npy'))"
   ]
  },
  {
   "cell_type": "markdown",
   "metadata": {},
   "source": [
    "load files of images and labels, and select the single sample t to plot"
   ]
  },
  {
   "cell_type": "code",
   "execution_count": 4,
   "metadata": {},
   "outputs": [],
   "source": [
    "vicon_xyz_all = load_file_(join(path_, 'S{}_session{}_mov{}_7500events_label.h5'.format(subj,sess,mov)))\n",
    "images_all = load_file_(join(path_, 'S{}_session{}_mov{}_7500events.h5'.format(subj,sess,mov)))\n",
    "vicon_xyz = vicon_xyz_all[t]\n",
    "image = images_all[t, :, :, ch_idx]"
   ]
  },
  {
   "cell_type": "markdown",
   "metadata": {},
   "source": [
    "Algorithm to convert XYZ Vicon coordinates to UV pixel coordinates"
   ]
  },
  {
   "cell_type": "code",
   "execution_count": 5,
   "metadata": {},
   "outputs": [],
   "source": [
    "# use homogeneous coordinates representation to project 3d XYZ coordinates to 2d UV pixel coordinates.\n",
    "vicon_xyz_homog = np.concatenate([vicon_xyz, np.ones([1,13])], axis=0)\n",
    "coord_pix_all_cam2_homog = np.matmul(P_mat_cam, vicon_xyz_homog)\n",
    "coord_pix_all_cam2_homog_norm = coord_pix_all_cam2_homog/coord_pix_all_cam2_homog[-1]\n",
    "u = coord_pix_all_cam2_homog_norm[0]\n",
    "v = image_h - coord_pix_all_cam2_homog_norm[1] # flip v coordinate to match the image direction\n",
    "\n",
    "# mask is used to make sure that pixel positions are in frame range.\n",
    "mask = np.ones(u.shape).astype(np.float32)\n",
    "mask[u>image_w] = 0\n",
    "mask[u<=0] = 0\n",
    "mask[v>image_h] = 0\n",
    "mask[v<=0] = 0\n",
    "\n",
    "# pixel coordinates\n",
    "u = u.astype(np.int32)\n",
    "v = v.astype(np.int32)"
   ]
  },
  {
   "cell_type": "markdown",
   "metadata": {},
   "source": [
    "Generate the heatmaps and plot them over the image"
   ]
  },
  {
   "cell_type": "code",
   "execution_count": 7,
   "metadata": {},
   "outputs": [
    {
     "data": {
      "image/png": "[encoded data removed]",
      "text/plain": [
       "<Figure size 432x288 with 1 Axes>"
      ]
     },
     "metadata": {
      "needs_background": "light"
     },
     "output_type": "display_data"
    }
   ],
   "source": [
    "# initialize the heatmaps\n",
    "label_heatmaps = np.zeros((image_h, image_w, num_joints))\n",
    "\n",
    "k = 2 # constant used to better visualize the joints when not using decay\n",
    "\n",
    "for fmidx,pair in enumerate(zip(v,u, mask)):\n",
    "    if decay_maps_flag:\n",
    "        if pair[2]==1: # write joint position only when projection within frame boundaries\n",
    "            label_heatmaps[pair[0],pair[1], fmidx] = 1\n",
    "            label_heatmaps[:,:,fmidx] = decay_heatmap(label_heatmaps[:,:,fmidx])\n",
    "    else:\n",
    "        if pair[2]==1: # write joint position only when projection within frame boundaries\n",
    "            label_heatmaps[(pair[0]-k):(pair[0]+k+1),(pair[1]-k):(pair[1]+k+1), fmidx] = 1\n",
    "\n",
    "plt.figure()\n",
    "plt.imshow(image, cmap='gray')\n",
    "plt.imshow(np.sum(label_heatmaps, axis=-1), alpha=.5)\n",
    "plt.show()"
   ]
  }
 ],
 "metadata": {
  "kernelspec": {
   "display_name": "Python 3",
   "language": "python",
   "name": "python3"
  },
  "language_info": {
   "codemirror_mode": {
    "name": "ipython",
    "version": 3
   },
   "file_extension": ".py",
   "mimetype": "text/x-python",
   "name": "python",
   "nbconvert_exporter": "python",
   "pygments_lexer": "ipython3",
   "version": "3.7.3"
  }
 },
 "nbformat": 4,
 "nbformat_minor": 2
}
